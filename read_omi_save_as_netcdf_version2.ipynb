{
 "cells": [
  {
   "cell_type": "code",
   "execution_count": 1,
   "metadata": {
    "collapsed": true
   },
   "outputs": [],
   "source": [
    "import pandas as pd\n",
    "import matplotlib.pyplot as plt\n",
    "import numpy as np\n",
    "import glob\n",
    "#import seaborn as sns\n",
    "#import datetime\n",
    "#from datetime import datetime, timedelta\n",
    "import datetime\n",
    "import re\n",
    "import scipy.io\n",
    "from netCDF4 import Dataset\n",
    "import netCDF4\n",
    "import sys\n",
    "import numpy.ma as ma\n",
    "%matplotlib inline "
   ]
  },
  {
   "cell_type": "code",
   "execution_count": 2,
   "metadata": {
    "collapsed": true
   },
   "outputs": [],
   "source": [
    "import seaborn as sns\n",
    "sns.set_style('ticks')"
   ]
  },
  {
   "cell_type": "code",
   "execution_count": 3,
   "metadata": {
    "collapsed": true
   },
   "outputs": [],
   "source": [
    "import matplotlib as mpl\n",
    "mpl.rcParams['lines.linewidth'] = 1\n",
    "mpl.rcParams['figure.figsize'] = (4,3)"
   ]
  },
  {
   "cell_type": "code",
   "execution_count": 4,
   "metadata": {
    "collapsed": true
   },
   "outputs": [],
   "source": [
    "pcolors_d3 = ['#1f77b4', '#ff7f0e', '#2ca02c', '#d62728',\n",
    "              '#9467bd', '#8c564b', '#e377c2', '#7f7f7f',\n",
    "              '#bcbd22', '#17becf']\n",
    "#https://github.com/d3/d3-3.x-api-reference/blob/master/Ordinal-Scales.md#category10"
   ]
  },
  {
   "cell_type": "code",
   "execution_count": 7,
   "metadata": {
    "collapsed": true
   },
   "outputs": [],
   "source": [
    "def write2nc(center, iso_mat, fac=228.82):\n",
    "\n",
    "    #f = netCDF4.Dataset('romi_'+center+'.nc', 'w')\n",
    "    with netCDF4.Dataset('romi_'+center+'.nc', 'w') as f:\n",
    "        \n",
    "        nt = iso_mat['iso_fcst'].shape[1]\n",
    "        for i in np.arange(iso_mat['iso_fcst'].shape[1]):\n",
    "            if all(iso_mat['iso_fcst'][:,i,0,0] == 0):\n",
    "                nt = i\n",
    "                break\n",
    "\n",
    "        nens = iso_mat['iso_fcst'].shape[-1]\n",
    "\n",
    "        f.createDimension('lead', size=nt)\n",
    "        f.createDimension('member', size=nens)\n",
    "        f.createDimension('ForecastID', size=iso_mat['iso_fcst'].shape[0])\n",
    "\n",
    "        a = f.createVariable('lead', 'f',('lead',))\n",
    "        a.setncattr('longname', 'forecast lead in days')\n",
    "        f.createVariable('member', np.int,('member',))\n",
    "        a = f.createVariable('ForecastID', np.int,('ForecastID'))\n",
    "        a.setncattr('longname', 'Forecast initialization date')\n",
    "        adim = f.createVariable('ModelVersion', np.int, ('ForecastID'))\n",
    "        adim.setncattr('longname', 'Forecast model version')\n",
    "\n",
    "    \n",
    "    \n",
    "        f.createVariable('PC1', np.float32,('ForecastID','lead', 'member' ))\n",
    "        f.createVariable('PC2', np.float32,('ForecastID','lead', 'member'))\n",
    "        f.createVariable('PC1veri', np.float32,('ForecastID','lead', ))\n",
    "        f.createVariable('PC2veri', np.float32,('ForecastID','lead', ))\n",
    "\n",
    "        f.variables['lead'][:] = np.arange(nt)\n",
    "        f.variables['member'][:] = np.arange(nens)\n",
    "\n",
    "        nf = iso_mat['time'].shape[0]\n",
    "        ftime = np.array([int(datetime.datetime.fromordinal(int(iso_mat['time'][i,0])).strftime('%Y%m%d')) for i in np.arange(nf)])\n",
    "        #f.variables['ForecastID'][:] = iso_mat['time'][:,0]\n",
    "        f.variables['ForecastID'][:] = ftime\n",
    "        #f.variables['ForecastID'][:] = iso_mat['time'][:,0]\n",
    "\n",
    "\n",
    "        vtime = np.array([int(datetime.datetime.fromordinal(int(iso_mat['model_version_time'][0,i])).strftime('%Y%m%d')) for i in np.arange(nf)])\n",
    "        f.variables['ModelVersion'][:] = vtime\n",
    "\n",
    "        tmp1 = iso_mat['iso_fcst'][:,:nt,0,:].squeeze()/fac\n",
    "        f.variables['PC1'][:] = tmp1.astype(np.float32)\n",
    "        \n",
    "        tmp2 = iso_mat['iso_fcst'][:,:nt,1,:].squeeze()/fac\n",
    "        f.variables['PC2'][:] = tmp2.astype(np.float32)\n",
    "\n",
    "        f.variables['PC1veri'][:] = iso_mat['iso_veri'][:,:nt,0].squeeze()/fac\n",
    "        f.variables['PC2veri'][:] = iso_mat['iso_veri'][:,:nt,1].squeeze()/fac\n",
    "\n",
    "    #f.close()\n"
   ]
  },
  {
   "cell_type": "code",
   "execution_count": 8,
   "metadata": {
    "collapsed": false
   },
   "outputs": [
    {
     "name": "stdout",
     "output_type": "stream",
     "text": [
      "dict_keys(['iso_veri', 'model_version_time', '__globals__', 'iso_fcst', '__version__', '__header__', 'time'])\n"
     ]
    }
   ],
   "source": [
    "fac = 228.82\n",
    "center_list = [ 'ecmf', 'ncep', 'jma',   'cma', 'cnrm', 'eccc', 'hmcr', 'bom',     'ukmo', 'isac']\n",
    "for i, center in enumerate(center_list):\n",
    "    iso_mat = scipy.io.loadmat('/sw19/wangs/s2s_post/olr_20S20N/omi_calc_save_modelversion_9pt/version2/omi_index_' + center +'.mat')\n",
    "    \n",
    "    iso_mat['iso_veri'].shape, iso_mat['iso_fcst'].shape\n",
    "    ini_time = [datetime.datetime.fromordinal(int(tt)) for tt in iso_mat['time'][:,0]]\n",
    "    ini_month = np.array([tt.month for tt in ini_time])\n",
    "    ini_year = np.array([tt.year for tt in ini_time])\n",
    "    \n",
    "    omi_1 = iso_mat['iso_veri'][:, 0, 0]/fac\n",
    "    omi_2 = iso_mat['iso_veri'][:, 0, 1]/fac\n",
    "    pha = np.arctan2(-omi_1, omi_2);\n",
    "    omi_ini_phase = np.floor((pha+np.pi)/(np.pi/4)) +1 \n",
    "    \n",
    "    write2nc(center, iso_mat, fac=228.82)\n",
    "        \n",
    "print(iso_mat.keys())    "
   ]
  },
  {
   "cell_type": "code",
   "execution_count": 9,
   "metadata": {
    "collapsed": false
   },
   "outputs": [
    {
     "name": "stdout",
     "output_type": "stream",
     "text": [
      "dict_keys(['iso_veri', 'model_version_time', '__globals__', 'iso_fcst', '__version__', '__header__', 'time'])\n"
     ]
    }
   ],
   "source": [
    "print(iso_mat.keys())"
   ]
  },
  {
   "cell_type": "code",
   "execution_count": 10,
   "metadata": {
    "collapsed": false
   },
   "outputs": [
    {
     "data": {
      "text/plain": [
       "(2188,)"
      ]
     },
     "execution_count": 10,
     "metadata": {},
     "output_type": "execute_result"
    }
   ],
   "source": [
    "omi_ini_phase.shape"
   ]
  },
  {
   "cell_type": "code",
   "execution_count": 11,
   "metadata": {
    "collapsed": true
   },
   "outputs": [],
   "source": [
    "center = 'ecmf'\n",
    "iso_mat = scipy.io.loadmat('/sw19/wangs/s2s_post/olr_20S20N/omi_calc_save_modelversion_9pt/version2/omi_index_' + center +'.mat')\n",
    "fac = 228.82"
   ]
  },
  {
   "cell_type": "code",
   "execution_count": null,
   "metadata": {
    "collapsed": true
   },
   "outputs": [],
   "source": []
  },
  {
   "cell_type": "code",
   "execution_count": 15,
   "metadata": {
    "collapsed": true
   },
   "outputs": [],
   "source": [
    "parameters = {'a':1.0, 'b':2.0, 'c':3.0}\n",
    "f = netCDF4.Dataset('test.nc', 'w')\n",
    "parms = f.createGroup('parameters')\n",
    "for k,v in parameters.items():\n",
    "    setattr(parms, k, v)\n",
    "f.close()    "
   ]
  },
  {
   "cell_type": "code",
   "execution_count": 16,
   "metadata": {
    "collapsed": false
   },
   "outputs": [],
   "source": [
    "f = netCDF4.Dataset('test.nc', 'w')\n",
    "parms = f.createGroup('parameters')\n",
    "for k,v in iso_mat.items():\n",
    "    setattr(parms, k, v)\n",
    "f.close()    "
   ]
  },
  {
   "cell_type": "code",
   "execution_count": 18,
   "metadata": {
    "collapsed": false
   },
   "outputs": [
    {
     "data": {
      "text/plain": [
       "(dict_keys(['iso_veri', 'model_version_time', '__globals__', 'iso_fcst', '__version__', '__header__', 'time']),\n",
       " (5524, 60, 2, 11))"
      ]
     },
     "execution_count": 18,
     "metadata": {},
     "output_type": "execute_result"
    }
   ],
   "source": [
    "iso_mat.keys(), iso_mat['iso_fcst'].shape"
   ]
  },
  {
   "cell_type": "code",
   "execution_count": null,
   "metadata": {
    "collapsed": true
   },
   "outputs": [],
   "source": []
  },
  {
   "cell_type": "code",
   "execution_count": 20,
   "metadata": {
    "collapsed": false
   },
   "outputs": [
    {
     "name": "stdout",
     "output_type": "stream",
     "text": [
      "46 11\n"
     ]
    }
   ],
   "source": [
    "#f.close()\n",
    "with netCDF4.Dataset('test.nc', 'w') as f:\n",
    "    nf, nt, _, nens = iso_mat['iso_fcst'].shape\n",
    "    for i in np.arange(iso_mat['iso_fcst'].shape[1]):\n",
    "        if all(iso_mat['iso_fcst'][:,i,0,0] == 0):\n",
    "            nt = i\n",
    "            break\n",
    "    nens = iso_mat['iso_fcst'].shape[-1]\n",
    "    print(nt, nens)\n",
    "    \n",
    "    f.createDimension('lead', size=nt)\n",
    "    f.createDimension('member', size=nens)\n",
    "    f.createDimension('ForecastID', size=nf)\n",
    "\n",
    "    a = f.createVariable('lead', 'f',('lead',))\n",
    "    a.setncattr('longname', 'forecast lead in days')\n",
    "    f.createVariable('member', np.int,('member',))\n",
    "    \n",
    "    a = f.createVariable('ForecastID', np.int,('ForecastID'))\n",
    "    a.setncattr('longname', 'Forecast initialization date')\n",
    "\n",
    "        \n",
    "    adim = f.createVariable('ModelVersion', np.int, ('ForecastID'))\n",
    "    adim.setncattr('longname', 'Forecast model version')\n",
    "    \n",
    "    f.createVariable('PC1', np.float32,('ForecastID','lead', 'member' ))\n",
    "    f.createVariable('PC2', np.float32,('ForecastID','lead', 'member'))\n",
    "    f.createVariable('PC1veri', np.float32,('ForecastID','lead', ))\n",
    "    f.createVariable('PC2veri', np.float32,('ForecastID','lead', ))\n",
    "\n",
    "    f.variables['lead'][:] = np.arange(nt)\n",
    "    f.variables['member'][:] = np.arange(nens)\n",
    "\n",
    "    nf = iso_mat['time'].shape[0]\n",
    "    ftime = np.array([int(datetime.datetime.fromordinal(int(iso_mat['time'][i,0])).strftime('%Y%m%d')) for i in np.arange(nf)])\n",
    "    #f.variables['ForecastID'][:] = iso_mat['time'][:,0]\n",
    "    f.variables['ForecastID'][:] = ftime\n",
    "\n",
    "    vtime = np.array([int(datetime.datetime.fromordinal(int(iso_mat['model_version_time'][0,i])).strftime('%Y%m%d')) for i in np.arange(nf)])\n",
    "    f.variables['ModelVersion'][:] = vtime\n",
    "\n",
    "\n",
    "    tmp1 = iso_mat['iso_fcst'][:,:nt,0,:].squeeze()/fac\n",
    "    f.variables['PC1'][:] = tmp1.astype(np.float32)\n",
    "    tmp2 = iso_mat['iso_fcst'][:,:nt,1,:].squeeze()/fac\n",
    "    f.variables['PC2'][:] = tmp2.astype(np.float32)\n",
    "\n",
    "    f.variables['PC1veri'][:] = iso_mat['iso_veri'][:,:nt,0].squeeze()/fac\n",
    "    f.variables['PC2veri'][:] = iso_mat['iso_veri'][:,:nt,1].squeeze()/fac\n",
    "\n",
    "#f.close()"
   ]
  },
  {
   "cell_type": "code",
   "execution_count": 21,
   "metadata": {
    "collapsed": false
   },
   "outputs": [
    {
     "data": {
      "text/plain": [
       "(5524, 60, 2, 11)"
      ]
     },
     "execution_count": 21,
     "metadata": {},
     "output_type": "execute_result"
    }
   ],
   "source": [
    "iso_mat['iso_fcst'].shape"
   ]
  },
  {
   "cell_type": "code",
   "execution_count": 22,
   "metadata": {
    "collapsed": true
   },
   "outputs": [],
   "source": [
    "write2nc('test', iso_mat)"
   ]
  },
  {
   "cell_type": "code",
   "execution_count": null,
   "metadata": {
    "collapsed": true
   },
   "outputs": [],
   "source": []
  },
  {
   "cell_type": "markdown",
   "metadata": {},
   "source": [
    "# now we do some check "
   ]
  },
  {
   "cell_type": "code",
   "execution_count": 23,
   "metadata": {
    "collapsed": false
   },
   "outputs": [
    {
     "data": {
      "image/png": "[encoded data removed]",
      "text/plain": [
       "<matplotlib.figure.Figure at 0x15466d600240>"
      ]
     },
     "metadata": {},
     "output_type": "display_data"
    }
   ],
   "source": [
    "center = 'ecmf'\n",
    "#with netCDF4.Dataset('rmm_nc/romi_'+center+'.nc', 'r') as f:\n",
    "with netCDF4.Dataset('test.nc', 'r') as f:    \n",
    "    romi1_f = f.variables['PC1'][:]\n",
    "    romi2_f = f.variables['PC2'][:]\n",
    "    romi1_v = f.variables['PC1veri'][:]\n",
    "    romi2_v = f.variables['PC2veri'][:]\n",
    "    ftime = f.variables['ForecastID'][:] \n",
    "    mtime = f.variables['ModelVersion'][:] \n",
    "    \n",
    "initime = [datetime.datetime.strptime(str(f), '%Y%m%d') for f in ftime ]\n",
    "ini_month = np.array([t.month for t in initime])\n",
    "ini_year = np.array([t.year for t in initime])\n",
    "\n",
    "isel = np.where( ((ini_month>=12)|(ini_month<=3))&(ini_year>=1999) & (ini_year<=2010) & (mtime > 20150601) )[0]\n",
    "isel =  ((ini_month>=12)|(ini_month<=3))&(ini_year>=1999) & (ini_year<=2010) #& (mtime > 20150601)  \n",
    "\n",
    "nt = romi1_v.shape[-1]\n",
    "acc0 = np.zeros(nt)\n",
    "acc1 = np.zeros(nt)\n",
    "\n",
    "for i in np.arange(nt):\n",
    "    tmp1 = np.hstack((romi1_f[isel,i,:].mean(-1), romi2_f[isel,i,:].mean(-1)))\n",
    "    tmp2 = np.hstack((romi1_v[isel,i], romi2_v[isel,i]))\n",
    "    acc0[i] = np.corrcoef(tmp1, tmp2)[0,1]\n",
    "\n",
    "    ff1 = romi1_f[isel,i,:].mean(-1)\n",
    "    ff2 = romi2_f[isel,i,:].mean(-1)\n",
    "\n",
    "    vv1 = romi1_v[isel,i]\n",
    "    vv2 = romi2_v[isel,i]\n",
    "    num = np.sum(ff1*vv1) + np.sum(ff2*vv2)\n",
    "    den = np.sqrt(np.sum(ff1**2+ff2**2))*np.sqrt(np.sum(vv1**2+vv2**2))\n",
    "    acc1[i] = num/den\n",
    "\n",
    "plt.figure(figsize=(3,2))\n",
    "plt.plot(acc1)\n",
    "plt.grid()"
   ]
  },
  {
   "cell_type": "code",
   "execution_count": 38,
   "metadata": {
    "collapsed": false
   },
   "outputs": [
    {
     "ename": "NameError",
     "evalue": "name 'ftime2' is not defined",
     "output_type": "error",
     "traceback": [
      "\u001b[0;31m---------------------------------------------------------------------------\u001b[0m",
      "\u001b[0;31mNameError\u001b[0m                                 Traceback (most recent call last)",
      "\u001b[0;32m<ipython-input-38-04413bbdf4d6>\u001b[0m in \u001b[0;36m<module>\u001b[0;34m()\u001b[0m\n\u001b[0;32m----> 1\u001b[0;31m \u001b[0mftime\u001b[0m\u001b[0;34m.\u001b[0m\u001b[0mshape\u001b[0m\u001b[0;34m,\u001b[0m \u001b[0mftime2\u001b[0m\u001b[0;34m.\u001b[0m\u001b[0mshape\u001b[0m\u001b[0;34m\u001b[0m\u001b[0m\n\u001b[0m",
      "\u001b[0;31mNameError\u001b[0m: name 'ftime2' is not defined"
     ]
    }
   ],
   "source": [
    "ftime.shape, ftime2.shape"
   ]
  },
  {
   "cell_type": "code",
   "execution_count": null,
   "metadata": {
    "collapsed": true
   },
   "outputs": [],
   "source": []
  },
  {
   "cell_type": "raw",
   "metadata": {},
   "source": [
    "ftime2 = np.array([int(datetime.datetime.fromordinal(int(iso_mat['time'][i,0])).strftime('%Y%m%d')) for i in np.arange(nf)])\n",
    "np.max(ftime2 - ftime)"
   ]
  },
  {
   "cell_type": "raw",
   "metadata": {},
   "source": [
    "aa = romi1_f - iso_mat['iso_fcst'][:,:46,0,:]\n",
    "bb = romi2_f - iso_mat['iso_fcst'][:,:46,1,:]\n",
    "cc = romi1_v - iso_mat['iso_veri'][:,:46,0]\n",
    "dd = romi2_v - iso_mat['iso_veri'][:,:46,1]\n",
    "\n",
    "np.max(aa), np.max(bb), np.max(cc), np.max(dd)"
   ]
  },
  {
   "cell_type": "code",
   "execution_count": null,
   "metadata": {
    "collapsed": true
   },
   "outputs": [],
   "source": []
  },
  {
   "cell_type": "code",
   "execution_count": null,
   "metadata": {
    "collapsed": false
   },
   "outputs": [],
   "source": []
  },
  {
   "cell_type": "code",
   "execution_count": null,
   "metadata": {
    "collapsed": true
   },
   "outputs": [],
   "source": []
  },
  {
   "cell_type": "code",
   "execution_count": null,
   "metadata": {
    "collapsed": true
   },
   "outputs": [],
   "source": []
  },
  {
   "cell_type": "code",
   "execution_count": 36,
   "metadata": {
    "collapsed": false
   },
   "outputs": [
    {
     "name": "stdout",
     "output_type": "stream",
     "text": [
      "0 2004.78 2037.56 0.983912 840\n",
      "1 1956.07 2003.25 0.976448 840\n",
      "2 1899.13 1963.06 0.96743 840\n",
      "3 1837.44 1920.19 0.956907 840\n",
      "4 1771.36 1874.92 0.944766 840\n",
      "5 1726.34 1841.57 0.937427 840\n",
      "6 1684.59 1810.8 0.930299 840\n",
      "7 1648.48 1786.91 0.922531 840\n",
      "8 1615.42 1767.45 0.913983 840\n",
      "9 1583.76 1750.05 0.90498 840\n"
     ]
    }
   ],
   "source": [
    "center = 'ecmf'\n",
    "iso_mat = scipy.io.loadmat('/sw19/wangs/s2s_post/olr_20S20N/omi_calc_save_modelversion_9pt/version2/omi_index_' + center +'.mat')\n",
    "Nfcst, Nt, _, Nens = iso_mat['iso_fcst'].shape\n",
    "\n",
    "nens = 11\n",
    "if center == 'ecmf' :\n",
    "    iso_amp_fcst = np.sqrt( iso_mat['iso_fcst'][:,:,0,:]**2 + iso_mat['iso_fcst'][:,:,1,:]**2  )/fac\n",
    "    isel = np.arange(iso_mat['iso_fcst'].shape[0])\n",
    "    isel = []\n",
    "    for ii in np.arange(Nfcst):\n",
    "        if  iso_amp_fcst[ii,32:, 5:].sum(-1).sum(-1) > 0 :               \n",
    "            isel.append(ii)\n",
    "    isel = np.array(isel)   \n",
    "    iso_fcst = iso_mat['iso_fcst'][isel,:,:,:nens]\n",
    "    iso_veri = iso_mat['iso_veri'][isel,:,:]\n",
    "    iso_mat.update ({'iso_fcst': iso_fcst, 'iso_veri':iso_veri, 'time':iso_mat['time'][isel,:]})\n",
    "        \n",
    "        \n",
    "ini_time = [datetime.datetime.fromordinal(int(tt)) for tt in iso_mat['time'][:,0]]\n",
    "ini_month = np.array([tt.month for tt in ini_time])\n",
    "ini_year = np.array([tt.year for tt in ini_time])\n",
    "\n",
    "ii = ((ini_month>=12) | (ini_month<=3)) & (ini_year>=1999) & (ini_year<=2010) \n",
    "ii = ((ini_month>=12) | (ini_month<=3)) & (ini_year>=1999) & (ini_year<=2010) \n",
    "iso_fcst = iso_mat['iso_fcst'][ii,:,:,:nens]\n",
    "iso_veri = iso_mat['iso_veri'][ii,:,:]\n",
    "iso_mat.update ({'iso_fcst': iso_fcst, 'iso_veri':iso_veri})\n",
    "        \n",
    "\n",
    "acc = np.zeros(46)\n",
    "for i in np.arange(46):\n",
    "    ff1 = iso_mat['iso_fcst'][:,i,0,:nens].mean(-1)/fac\n",
    "    ff2 = iso_mat['iso_fcst'][:,i,1,:nens].mean(-1)/fac\n",
    "    vv1 = iso_mat['iso_veri'][:,i,0]/fac\n",
    "    vv2 = iso_mat['iso_veri'][:,i,1]/fac\n",
    "\n",
    "    ff1  = ma.masked_where(np.abs(ff1) >= 1e3, ff1)\n",
    "    ff2  = ma.masked_where(np.abs(ff2) >= 1e3, ff2)\n",
    "\n",
    "    #print(ff1.shape)\n",
    "    num = np.sum(ff1*vv1) + np.sum(ff2*vv2)\n",
    "    den = np.sqrt(np.sum(ff1**2+ff2**2))*np.sqrt(np.sum(vv1**2+vv2**2))\n",
    "    acc[i] = num/den\n",
    "    if i < 10:\n",
    "        print(i, num, den, num/den, len(ff1))"
   ]
  },
  {
   "cell_type": "code",
   "execution_count": null,
   "metadata": {
    "collapsed": false
   },
   "outputs": [],
   "source": []
  },
  {
   "cell_type": "code",
   "execution_count": 32,
   "metadata": {
    "collapsed": true
   },
   "outputs": [],
   "source": [
    "def load_calc_acc_phase_lag(center, season = 'all', nens=100, fac=228):\n",
    "    if 1 == 11:\n",
    "        center = 'ecmf'\n",
    "        #season = 'winter'\n",
    "    iso_ecmf_mat = scipy.io.loadmat('/sw19/wangs/s2s_post/olr_20S20N/omi_calc_save_modelversion_9pt/version2/omi_index_' + center +'.mat')\n",
    "    Nfcst, Nt, _, Nens = iso_ecmf_mat['iso_fcst'].shape\n",
    "\n",
    "    if center == 'ecmf':\n",
    "        iso_amp_fcst = np.sqrt( iso_ecmf_mat['iso_fcst'][:,:,0,:]**2 + iso_ecmf_mat['iso_fcst'][:,:,1,:]**2  )/fac\n",
    "        isel = np.arange(iso_ecmf_mat['iso_fcst'].shape[0])\n",
    "        isel = []\n",
    "        for ii in np.arange(Nfcst):\n",
    "            #if (np.sum(iso_ecmf_mat['iso_fcst'][ii,32:]) > 0) and (iso_amp_fcst[ii,32:, 5:].sum(-1).sum(-1) > 0 ) : \n",
    "            if  iso_amp_fcst[ii,32:, 5:].sum(-1).sum(-1) > 0 :               \n",
    "                isel.append(ii)\n",
    "        isel = np.array(isel)   \n",
    "        iso_fcst = iso_ecmf_mat['iso_fcst'][isel,:,:,:nens]\n",
    "        iso_veri = iso_ecmf_mat['iso_veri'][isel,:,:]\n",
    "        iso_ecmf_mat.update ({'iso_fcst': iso_fcst, 'iso_veri':iso_veri, 'time':iso_ecmf_mat['time'][isel,:]})\n",
    "        \n",
    "        \n",
    "    nens = np.min((Nens, nens))\n",
    "    \n",
    "    ini_time = [datetime.datetime.fromordinal(int(tt)) for tt in iso_ecmf_mat['time'][:,0]]\n",
    "    ini_month = np.array([tt.month for tt in ini_time])\n",
    "    ini_year = np.array([tt.year for tt in ini_time])\n",
    "\n",
    "    \n",
    "    if season == 'all':\n",
    "        pass\n",
    "    elif season == 'winter':\n",
    "        ii = ((ini_month>=12) | (ini_month<=3)) & (ini_year>=1999) & (ini_year<=2010) \n",
    "        iso_fcst = iso_ecmf_mat['iso_fcst'][ii,:,:,:nens]\n",
    "        iso_veri = iso_ecmf_mat['iso_veri'][ii,:,:]\n",
    "        iso_ecmf_mat.update ({'iso_fcst': iso_fcst, 'iso_veri':iso_veri})\n",
    "    elif season == 'summer' :\n",
    "        ii = (ini_month>=6) & (ini_month<=9) & (ini_year>=1999) & (ini_year<=2010) \n",
    "        iso_fcst = iso_ecmf_mat['iso_fcst'][ii,:,:,:nens]\n",
    "        iso_veri = iso_ecmf_mat['iso_veri'][ii,:,:]\n",
    "        iso_ecmf_mat.update ({'iso_fcst': iso_fcst, 'iso_veri':iso_veri})\n",
    "        \n",
    "        \n",
    "\n",
    "    acc_phase = np.zeros((60, 8))+np.nan\n",
    "    acc = np.zeros((60))+np.nan\n",
    "        \n",
    "    for ilag in np.arange(45) :   \n",
    "        \n",
    "        omi_1 = iso_ecmf_mat['iso_veri'][:, ilag, 0]\n",
    "        omi_2 = iso_ecmf_mat['iso_veri'][:, ilag, 1]\n",
    "        pha = np.arctan2(-omi_1, omi_2);\n",
    "        omi_phase = np.floor((pha+np.pi)/(np.pi/4));\n",
    "        omi_phase += 1\n",
    "\n",
    "\n",
    "\n",
    "        if 1 == 1:\n",
    "            i = ilag\n",
    "        #for i in [ilag]: #np.arange(Nt):\n",
    "            #  isel =  (iso_ini_month>=5) & (iso_ini_month<=9) & (ini_amp>=r1) & (ini_amp<=r2)   \n",
    "\n",
    "            ff1 = iso_ecmf_mat['iso_fcst'][:,i,0,:nens].mean(-1)/fac\n",
    "            ff2 = iso_ecmf_mat['iso_fcst'][:,i,1,:nens].mean(-1)/fac\n",
    "            vv1 = iso_ecmf_mat['iso_veri'][:,i,0]/fac\n",
    "            vv2 = iso_ecmf_mat['iso_veri'][:,i,1]/fac\n",
    "\n",
    "            ff1  = ma.masked_where(np.abs(ff1) >= 1e3, ff1)\n",
    "            ff2  = ma.masked_where(np.abs(ff2) >= 1e3, ff2)\n",
    "\n",
    "            #print(ff1.shape)\n",
    "            num = np.sum(ff1*vv1) + np.sum(ff2*vv2)\n",
    "            den = np.sqrt(np.sum(ff1**2+ff2**2))*np.sqrt(np.sum(vv1**2+vv2**2))\n",
    "            acc[i] = num/den\n",
    "\n",
    "            #if i < 10:\n",
    "            #    print(i, num, den, acc[i], ff1.shape)\n",
    "\n",
    "            for iphase in np.arange(8):\n",
    "\n",
    "                isel = (omi_phase == iphase+1)\n",
    "                #print(iphase, isel.shape)\n",
    "                ff1 = iso_ecmf_mat['iso_fcst'][isel,i,0,:nens].mean(-1)\n",
    "                ff2 = iso_ecmf_mat['iso_fcst'][isel,i,1,:nens].mean(-1)\n",
    "                vv1 = iso_ecmf_mat['iso_veri'][isel,i,0]\n",
    "                vv2 = iso_ecmf_mat['iso_veri'][isel,i,1]\n",
    "\n",
    "                if isel.shape[0] < 1:\n",
    "                    print('wrong isel')\n",
    "                num = np.sum(ff1*vv1) + np.sum(ff2*vv2)\n",
    "                den = np.sqrt(np.sum(ff1**2+ff2**2))*np.sqrt(np.sum(vv1**2+vv2**2))\n",
    "                acc_phase[i,iphase] = num/den\n",
    " \n",
    "\n",
    "\n",
    "    return acc,  acc_phase"
   ]
  },
  {
   "cell_type": "code",
   "execution_count": 39,
   "metadata": {
    "collapsed": false
   },
   "outputs": [
    {
     "data": {
      "image/png": "[encoded data removed]",
      "text/plain": [
       "<matplotlib.figure.Figure at 0x15466bf65c50>"
      ]
     },
     "metadata": {},
     "output_type": "display_data"
    }
   ],
   "source": [
    "acc_n, acc_phase,  = load_calc_acc_phase_lag('ecmf', season='winter', fac=228.82)  \n",
    "plt.plot(acc_n)\n",
    "plt.grid()"
   ]
  },
  {
   "cell_type": "code",
   "execution_count": 41,
   "metadata": {
    "collapsed": false
   },
   "outputs": [
    {
     "data": {
      "image/png": "[encoded data removed]",
      "text/plain": [
       "<matplotlib.figure.Figure at 0x15466cab3da0>"
      ]
     },
     "metadata": {},
     "output_type": "display_data"
    }
   ],
   "source": [
    "plt.figure(figsize=(4,3))\n",
    "plt.plot(acc)\n",
    "plt.plot(acc_n, '--')\n",
    "plt.grid()"
   ]
  },
  {
   "cell_type": "raw",
   "metadata": {},
   "source": [
    "plt.figure(figsize=(8, 8))\n",
    "for i,center in enumerate(center_list):\n",
    "    acc_n, acc_phase,  = load_calc_acc_phase_lag(center, season='winter', fac=228.82)  \n",
    "    plt.subplot(4,3,i+1)\n",
    "    plt.plot(acc_n)\n",
    "    plt.grid()\n",
    "    plt.axis([0,45, 0.4, 1])\n",
    "    plt.title(center, y=1.03)\n",
    "plt.tight_layout()\n"
   ]
  },
  {
   "cell_type": "code",
   "execution_count": 34,
   "metadata": {
    "collapsed": false
   },
   "outputs": [
    {
     "name": "stderr",
     "output_type": "stream",
     "text": [
      "/home/wangs/anaconda3/lib/python3.4/site-packages/ipykernel/__main__.py:73: RuntimeWarning: invalid value encountered in float_scalars\n",
      "/home/wangs/anaconda3/lib/python3.4/site-packages/ipykernel/__main__.py:91: RuntimeWarning: invalid value encountered in float_scalars\n"
     ]
    },
    {
     "data": {
      "image/png": "[encoded data removed]",
      "text/plain": [
       "<matplotlib.figure.Figure at 0x15466cf0f358>"
      ]
     },
     "metadata": {},
     "output_type": "display_data"
    }
   ],
   "source": [
    "plt.figure(figsize=(8, 8))\n",
    "\n",
    "for ii, center in enumerate(center_list):\n",
    "    with netCDF4.Dataset('./romi_'+center+'.nc', 'r') as f:\n",
    "    #with netCDF4.Dataset('test.nc', 'r') as f:    \n",
    "        romi1_f = f.variables['PC1'][:]\n",
    "        romi2_f = f.variables['PC2'][:]\n",
    "        romi1_v = f.variables['PC1veri'][:]\n",
    "        romi2_v = f.variables['PC2veri'][:]\n",
    "        ftime = f.variables['ForecastID'][:] \n",
    "        mtime = f.variables['ModelVersion'][:] \n",
    "    \n",
    "    initime = [datetime.datetime.strptime(str(f), '%Y%m%d') for f in ftime ]\n",
    "    ini_month = np.array([t.month for t in initime])\n",
    "    ini_year = np.array([t.year for t in initime])\n",
    "\n",
    "    isel = np.where( ((ini_month>=12)|(ini_month<=3))&(ini_year>=1999) & (ini_year<=2010) & (mtime > 20150601) )[0]\n",
    "    isel =  ((ini_month>=12)|(ini_month<=3))&(ini_year>=1999) & (ini_year<=2010) #& (mtime > 20150601)  \n",
    "\n",
    "    nt = romi1_v.shape[-1]\n",
    "    acc0 = np.zeros(nt)\n",
    "    acc1 = np.zeros(nt)\n",
    "\n",
    "    for i in np.arange(nt):\n",
    "        tmp1 = np.hstack((romi1_f[isel,i,:].mean(-1), romi2_f[isel,i,:].mean(-1)))\n",
    "        tmp2 = np.hstack((romi1_v[isel,i], romi2_v[isel,i]))\n",
    "        acc0[i] = np.corrcoef(tmp1, tmp2)[0,1]\n",
    "\n",
    "        ff1 = romi1_f[isel,i,:].mean(-1)\n",
    "        ff2 = romi2_f[isel,i,:].mean(-1)\n",
    "\n",
    "        vv1 = romi1_v[isel,i]\n",
    "        vv2 = romi2_v[isel,i]\n",
    "        num = np.sum(ff1*vv1) + np.sum(ff2*vv2)\n",
    "        den = np.sqrt(np.sum(ff1**2+ff2**2))*np.sqrt(np.sum(vv1**2+vv2**2))\n",
    "        acc1[i] = num/den\n",
    "\n",
    "    acc_n, acc_phase,  = load_calc_acc_phase_lag(center, season='winter', fac=228.82)  \n",
    "\n",
    "    plt.subplot(4,3,ii+1)\n",
    "    plt.plot(acc1)\n",
    "    plt.plot(acc_n, '--')\n",
    "    plt.grid()\n",
    "    plt.axis([0,45, 0.4, 1])\n",
    "    plt.title(center, y=1.03)\n",
    "plt.tight_layout()"
   ]
  },
  {
   "cell_type": "code",
   "execution_count": null,
   "metadata": {
    "collapsed": true
   },
   "outputs": [],
   "source": []
  }
 ],
 "metadata": {
  "anaconda-cloud": {},
  "kernelspec": {
   "display_name": "Python [default]",
   "language": "python",
   "name": "python3"
  },
  "language_info": {
   "codemirror_mode": {
    "name": "ipython",
    "version": 3
   },
   "file_extension": ".py",
   "mimetype": "text/x-python",
   "name": "python",
   "nbconvert_exporter": "python",
   "pygments_lexer": "ipython3",
   "version": "3.4.5"
  }
 },
 "nbformat": 4,
 "nbformat_minor": 1
}
